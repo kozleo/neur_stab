{
 "cells": [
  {
   "cell_type": "code",
   "execution_count": 20,
   "metadata": {},
   "outputs": [],
   "source": [
    "import numpy as np\n",
    "import matplotlib.pyplot as plt"
   ]
  },
  {
   "cell_type": "code",
   "execution_count": 31,
   "metadata": {},
   "outputs": [
    {
     "data": {
      "text/plain": [
       "array([-1.62630589, -1.23876136])"
      ]
     },
     "execution_count": 31,
     "metadata": {},
     "output_type": "execute_result"
    }
   ],
   "source": [
    "x = np.random.normal(0,1,(10,2))\n"
   ]
  },
  {
   "cell_type": "code",
   "execution_count": 50,
   "metadata": {},
   "outputs": [],
   "source": [
    "def test_jac(x):\n",
    "    return x**2\n",
    "\n",
    "def sech_sqrd(x):\n",
    "    #computes sech^2(x)\n",
    "    return 1-(np.tanh(x))**2\n",
    "\n",
    "def vRNN_update(x,W):\n",
    "    return np.tanh(W @ x)\n",
    "\n",
    "def vRNN_jac(x, W):\n",
    "    #assumes tanh activation\n",
    "    return np.diag(sech_sqrd(x)) @ W\n",
    "    \n",
    "def run_random_vRNN_sim(n,g,T,p):\n",
    "\n",
    "    #n: number of neurons\n",
    "    \n",
    "    #g: chaos dial\n",
    "\n",
    "    #T: length of sim\n",
    "\n",
    "    #p: number of trials\n",
    "\n",
    "    W = np.random.normal(0,g/np.sqrt(n),(n,n))\n",
    "\n",
    "    x = np.random.normal(0,1,n)\n",
    "    \n",
    "    xsAllTrials = []\n",
    "    JsAllTrials = []\n",
    "\n",
    "    for trial in range(p):\n",
    "\n",
    "        \n",
    "        xsOneTrial = []\n",
    "        JsOneTrial = []\n",
    "        for time in range(T):\n",
    "\n",
    "            x = vRNN_update(x,W)\n",
    "            xsOneTrial.append(x)\n",
    "            JsOneTrial.append(vRNN_jac(x, W))\n",
    "\n",
    "        xsAllTrials.append(xsOneTrial)\n",
    "        JsAllTrials.append(JsOneTrial)\n",
    "    \n",
    "    xsAllTrials = np.stack(xsAllTrials)\n",
    "    JsAllTrials = np.stack(JsAllTrials)\n",
    "\n",
    "    \n",
    "\n",
    "    return xsAllTrials, JsAllTrials\n",
    "        \n",
    "\n",
    "\n",
    "\n",
    "\n",
    "\n",
    "def compute_lyaps_using_QR(states = None,jacs = None,jac_func = None):\n",
    "\n",
    "    #make sure something is passed in\n",
    "    if all(v is None for v in {states, jacs,jac_func}):\n",
    "        raise ValueError('No input to compute_lyaps_using_QR given.')\n",
    "    \n",
    "    #make sure if jacobian function is passed in, so are states\n",
    "    if jac_func is not None:\n",
    "        assert states is not None, 'Jacobian function supplied but no states given.'\n",
    "\n",
    "    #make sure if states passed in, so is jacobian function\n",
    "    if states is not None:\n",
    "        assert jac_func is not None, 'States given, but no Jacobian function supplied.'\n",
    "\n",
    "    #jacs expected to be in trial x time x neuron x neuron format\n",
    "    assert jacs.shape[-1] == jacs.shape[-2], 'jacs not formatted correctly'\n",
    "    p,T,n = jacs.shape[0],jacs.shape[1],jacs.shape[2]\n",
    "\n",
    "    \n",
    "\n",
    "    for trial in p:\n",
    "        Q = np.eye(n)\n",
    "        lyaps = np.zeros(n)\n",
    "        for time in range(T):\n",
    "\n",
    "            Q_new = Q @ jacs[trial,time]\n",
    "            Q , R = np.linalg.qr(Q_new)\n",
    "            lyaps += np.diag(R)\n",
    "        \n",
    "\n",
    "\n",
    "            \n",
    "    \n"
   ]
  },
  {
   "cell_type": "code",
   "execution_count": 49,
   "metadata": {},
   "outputs": [],
   "source": [
    "states,jacs = run_random_vRNN_sim(n = 10,g = 1,T = 100,p = 2)"
   ]
  },
  {
   "cell_type": "code",
   "execution_count": 48,
   "metadata": {},
   "outputs": [
    {
     "data": {
      "text/plain": [
       "<matplotlib.image.AxesImage at 0x7f53485ec8e0>"
      ]
     },
     "execution_count": 48,
     "metadata": {},
     "output_type": "execute_result"
    },
    {
     "data": {
      "image/png": "[encoded data removed]",
      "text/plain": [
       "<Figure size 288x288 with 1 Axes>"
      ]
     },
     "metadata": {
      "needs_background": "light"
     },
     "output_type": "display_data"
    }
   ],
   "source": []
  },
  {
   "cell_type": "code",
   "execution_count": null,
   "metadata": {},
   "outputs": [],
   "source": []
  }
 ],
 "metadata": {
  "interpreter": {
   "hash": "31f2aee4e71d21fbe5cf8b01ff0e069b9275f58929596ceb00d14d90e3e16cd6"
  },
  "kernelspec": {
   "display_name": "Python 3.8.10 64-bit",
   "language": "python",
   "name": "python3"
  },
  "language_info": {
   "codemirror_mode": {
    "name": "ipython",
    "version": 3
   },
   "file_extension": ".py",
   "mimetype": "text/x-python",
   "name": "python",
   "nbconvert_exporter": "python",
   "pygments_lexer": "ipython3",
   "version": "3.8.8"
  },
  "orig_nbformat": 4
 },
 "nbformat": 4,
 "nbformat_minor": 2
}
